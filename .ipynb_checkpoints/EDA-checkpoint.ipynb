{
 "cells": [
  {
   "cell_type": "markdown",
   "id": "ecd6a4ba",
   "metadata": {},
   "source": [
    "### Univariate,Bivariate and MultiVariate Analysis"
   ]
  },
  {
   "cell_type": "code",
   "execution_count": 1,
   "id": "8bf19ef7",
   "metadata": {},
   "outputs": [],
   "source": [
    "import pandas as pd\n",
    "import numpy as np\n",
    "import matplotlib.pyplot as plt\n",
    "import seaborn as sns"
   ]
  },
  {
   "cell_type": "code",
   "execution_count": 2,
   "id": "815248e3",
   "metadata": {},
   "outputs": [],
   "source": [
    "df = pd.read_csv('https://raw.githubusercontent.com/uiuc-cse/data-fa14/gh-pages/data/iris.csv')"
   ]
  },
  {
   "cell_type": "code",
   "execution_count": 3,
   "id": "29674cd6",
   "metadata": {},
   "outputs": [
    {
     "data": {
      "text/html": [
       "<div>\n",
       "<style scoped>\n",
       "    .dataframe tbody tr th:only-of-type {\n",
       "        vertical-align: middle;\n",
       "    }\n",
       "\n",
       "    .dataframe tbody tr th {\n",
       "        vertical-align: top;\n",
       "    }\n",
       "\n",
       "    .dataframe thead th {\n",
       "        text-align: right;\n",
       "    }\n",
       "</style>\n",
       "<table border=\"1\" class=\"dataframe\">\n",
       "  <thead>\n",
       "    <tr style=\"text-align: right;\">\n",
       "      <th></th>\n",
       "      <th>sepal_length</th>\n",
       "      <th>sepal_width</th>\n",
       "      <th>petal_length</th>\n",
       "      <th>petal_width</th>\n",
       "      <th>species</th>\n",
       "    </tr>\n",
       "  </thead>\n",
       "  <tbody>\n",
       "    <tr>\n",
       "      <th>0</th>\n",
       "      <td>5.1</td>\n",
       "      <td>3.5</td>\n",
       "      <td>1.4</td>\n",
       "      <td>0.2</td>\n",
       "      <td>setosa</td>\n",
       "    </tr>\n",
       "    <tr>\n",
       "      <th>1</th>\n",
       "      <td>4.9</td>\n",
       "      <td>3.0</td>\n",
       "      <td>1.4</td>\n",
       "      <td>0.2</td>\n",
       "      <td>setosa</td>\n",
       "    </tr>\n",
       "    <tr>\n",
       "      <th>2</th>\n",
       "      <td>4.7</td>\n",
       "      <td>3.2</td>\n",
       "      <td>1.3</td>\n",
       "      <td>0.2</td>\n",
       "      <td>setosa</td>\n",
       "    </tr>\n",
       "    <tr>\n",
       "      <th>3</th>\n",
       "      <td>4.6</td>\n",
       "      <td>3.1</td>\n",
       "      <td>1.5</td>\n",
       "      <td>0.2</td>\n",
       "      <td>setosa</td>\n",
       "    </tr>\n",
       "    <tr>\n",
       "      <th>4</th>\n",
       "      <td>5.0</td>\n",
       "      <td>3.6</td>\n",
       "      <td>1.4</td>\n",
       "      <td>0.2</td>\n",
       "      <td>setosa</td>\n",
       "    </tr>\n",
       "  </tbody>\n",
       "</table>\n",
       "</div>"
      ],
      "text/plain": [
       "   sepal_length  sepal_width  petal_length  petal_width species\n",
       "0           5.1          3.5           1.4          0.2  setosa\n",
       "1           4.9          3.0           1.4          0.2  setosa\n",
       "2           4.7          3.2           1.3          0.2  setosa\n",
       "3           4.6          3.1           1.5          0.2  setosa\n",
       "4           5.0          3.6           1.4          0.2  setosa"
      ]
     },
     "execution_count": 3,
     "metadata": {},
     "output_type": "execute_result"
    }
   ],
   "source": [
    "df.head()"
   ]
  },
  {
   "cell_type": "code",
   "execution_count": 4,
   "id": "89335cf1",
   "metadata": {},
   "outputs": [
    {
     "data": {
      "text/plain": [
       "(150, 5)"
      ]
     },
     "execution_count": 4,
     "metadata": {},
     "output_type": "execute_result"
    }
   ],
   "source": [
    "df.shape"
   ]
  },
  {
   "cell_type": "markdown",
   "id": "3f83e5e1",
   "metadata": {},
   "source": [
    "### Univariate Analysis"
   ]
  },
  {
   "cell_type": "code",
   "execution_count": 5,
   "id": "cf71578d",
   "metadata": {},
   "outputs": [],
   "source": [
    "df_setosa = df[df['species'] == 'setosa']\n",
    "df_virginica = df.loc[df['species'] == 'virginica']\n",
    "df_versicolor = df.loc[df['species'] == 'versicolor']"
   ]
  },
  {
   "cell_type": "code",
   "execution_count": 6,
   "id": "e35a6cc9",
   "metadata": {},
   "outputs": [
    {
     "data": {
      "text/plain": [
       "(    sepal_length  sepal_width  petal_length  petal_width species\n",
       " 0            5.1          3.5           1.4          0.2  setosa\n",
       " 1            4.9          3.0           1.4          0.2  setosa\n",
       " 2            4.7          3.2           1.3          0.2  setosa\n",
       " 3            4.6          3.1           1.5          0.2  setosa\n",
       " 4            5.0          3.6           1.4          0.2  setosa\n",
       " 5            5.4          3.9           1.7          0.4  setosa\n",
       " 6            4.6          3.4           1.4          0.3  setosa\n",
       " 7            5.0          3.4           1.5          0.2  setosa\n",
       " 8            4.4          2.9           1.4          0.2  setosa\n",
       " 9            4.9          3.1           1.5          0.1  setosa\n",
       " 10           5.4          3.7           1.5          0.2  setosa\n",
       " 11           4.8          3.4           1.6          0.2  setosa\n",
       " 12           4.8          3.0           1.4          0.1  setosa\n",
       " 13           4.3          3.0           1.1          0.1  setosa\n",
       " 14           5.8          4.0           1.2          0.2  setosa\n",
       " 15           5.7          4.4           1.5          0.4  setosa\n",
       " 16           5.4          3.9           1.3          0.4  setosa\n",
       " 17           5.1          3.5           1.4          0.3  setosa\n",
       " 18           5.7          3.8           1.7          0.3  setosa\n",
       " 19           5.1          3.8           1.5          0.3  setosa\n",
       " 20           5.4          3.4           1.7          0.2  setosa\n",
       " 21           5.1          3.7           1.5          0.4  setosa\n",
       " 22           4.6          3.6           1.0          0.2  setosa\n",
       " 23           5.1          3.3           1.7          0.5  setosa\n",
       " 24           4.8          3.4           1.9          0.2  setosa\n",
       " 25           5.0          3.0           1.6          0.2  setosa\n",
       " 26           5.0          3.4           1.6          0.4  setosa\n",
       " 27           5.2          3.5           1.5          0.2  setosa\n",
       " 28           5.2          3.4           1.4          0.2  setosa\n",
       " 29           4.7          3.2           1.6          0.2  setosa\n",
       " 30           4.8          3.1           1.6          0.2  setosa\n",
       " 31           5.4          3.4           1.5          0.4  setosa\n",
       " 32           5.2          4.1           1.5          0.1  setosa\n",
       " 33           5.5          4.2           1.4          0.2  setosa\n",
       " 34           4.9          3.1           1.5          0.1  setosa\n",
       " 35           5.0          3.2           1.2          0.2  setosa\n",
       " 36           5.5          3.5           1.3          0.2  setosa\n",
       " 37           4.9          3.1           1.5          0.1  setosa\n",
       " 38           4.4          3.0           1.3          0.2  setosa\n",
       " 39           5.1          3.4           1.5          0.2  setosa\n",
       " 40           5.0          3.5           1.3          0.3  setosa\n",
       " 41           4.5          2.3           1.3          0.3  setosa\n",
       " 42           4.4          3.2           1.3          0.2  setosa\n",
       " 43           5.0          3.5           1.6          0.6  setosa\n",
       " 44           5.1          3.8           1.9          0.4  setosa\n",
       " 45           4.8          3.0           1.4          0.3  setosa\n",
       " 46           5.1          3.8           1.6          0.2  setosa\n",
       " 47           4.6          3.2           1.4          0.2  setosa\n",
       " 48           5.3          3.7           1.5          0.2  setosa\n",
       " 49           5.0          3.3           1.4          0.2  setosa,\n",
       "     sepal_length  sepal_width  petal_length  petal_width     species\n",
       " 50           7.0          3.2           4.7          1.4  versicolor\n",
       " 51           6.4          3.2           4.5          1.5  versicolor\n",
       " 52           6.9          3.1           4.9          1.5  versicolor\n",
       " 53           5.5          2.3           4.0          1.3  versicolor\n",
       " 54           6.5          2.8           4.6          1.5  versicolor\n",
       " 55           5.7          2.8           4.5          1.3  versicolor\n",
       " 56           6.3          3.3           4.7          1.6  versicolor\n",
       " 57           4.9          2.4           3.3          1.0  versicolor\n",
       " 58           6.6          2.9           4.6          1.3  versicolor\n",
       " 59           5.2          2.7           3.9          1.4  versicolor\n",
       " 60           5.0          2.0           3.5          1.0  versicolor\n",
       " 61           5.9          3.0           4.2          1.5  versicolor\n",
       " 62           6.0          2.2           4.0          1.0  versicolor\n",
       " 63           6.1          2.9           4.7          1.4  versicolor\n",
       " 64           5.6          2.9           3.6          1.3  versicolor\n",
       " 65           6.7          3.1           4.4          1.4  versicolor\n",
       " 66           5.6          3.0           4.5          1.5  versicolor\n",
       " 67           5.8          2.7           4.1          1.0  versicolor\n",
       " 68           6.2          2.2           4.5          1.5  versicolor\n",
       " 69           5.6          2.5           3.9          1.1  versicolor\n",
       " 70           5.9          3.2           4.8          1.8  versicolor\n",
       " 71           6.1          2.8           4.0          1.3  versicolor\n",
       " 72           6.3          2.5           4.9          1.5  versicolor\n",
       " 73           6.1          2.8           4.7          1.2  versicolor\n",
       " 74           6.4          2.9           4.3          1.3  versicolor\n",
       " 75           6.6          3.0           4.4          1.4  versicolor\n",
       " 76           6.8          2.8           4.8          1.4  versicolor\n",
       " 77           6.7          3.0           5.0          1.7  versicolor\n",
       " 78           6.0          2.9           4.5          1.5  versicolor\n",
       " 79           5.7          2.6           3.5          1.0  versicolor\n",
       " 80           5.5          2.4           3.8          1.1  versicolor\n",
       " 81           5.5          2.4           3.7          1.0  versicolor\n",
       " 82           5.8          2.7           3.9          1.2  versicolor\n",
       " 83           6.0          2.7           5.1          1.6  versicolor\n",
       " 84           5.4          3.0           4.5          1.5  versicolor\n",
       " 85           6.0          3.4           4.5          1.6  versicolor\n",
       " 86           6.7          3.1           4.7          1.5  versicolor\n",
       " 87           6.3          2.3           4.4          1.3  versicolor\n",
       " 88           5.6          3.0           4.1          1.3  versicolor\n",
       " 89           5.5          2.5           4.0          1.3  versicolor\n",
       " 90           5.5          2.6           4.4          1.2  versicolor\n",
       " 91           6.1          3.0           4.6          1.4  versicolor\n",
       " 92           5.8          2.6           4.0          1.2  versicolor\n",
       " 93           5.0          2.3           3.3          1.0  versicolor\n",
       " 94           5.6          2.7           4.2          1.3  versicolor\n",
       " 95           5.7          3.0           4.2          1.2  versicolor\n",
       " 96           5.7          2.9           4.2          1.3  versicolor\n",
       " 97           6.2          2.9           4.3          1.3  versicolor\n",
       " 98           5.1          2.5           3.0          1.1  versicolor\n",
       " 99           5.7          2.8           4.1          1.3  versicolor,\n",
       "      sepal_length  sepal_width  petal_length  petal_width    species\n",
       " 100           6.3          3.3           6.0          2.5  virginica\n",
       " 101           5.8          2.7           5.1          1.9  virginica\n",
       " 102           7.1          3.0           5.9          2.1  virginica\n",
       " 103           6.3          2.9           5.6          1.8  virginica\n",
       " 104           6.5          3.0           5.8          2.2  virginica\n",
       " 105           7.6          3.0           6.6          2.1  virginica\n",
       " 106           4.9          2.5           4.5          1.7  virginica\n",
       " 107           7.3          2.9           6.3          1.8  virginica\n",
       " 108           6.7          2.5           5.8          1.8  virginica\n",
       " 109           7.2          3.6           6.1          2.5  virginica\n",
       " 110           6.5          3.2           5.1          2.0  virginica\n",
       " 111           6.4          2.7           5.3          1.9  virginica\n",
       " 112           6.8          3.0           5.5          2.1  virginica\n",
       " 113           5.7          2.5           5.0          2.0  virginica\n",
       " 114           5.8          2.8           5.1          2.4  virginica\n",
       " 115           6.4          3.2           5.3          2.3  virginica\n",
       " 116           6.5          3.0           5.5          1.8  virginica\n",
       " 117           7.7          3.8           6.7          2.2  virginica\n",
       " 118           7.7          2.6           6.9          2.3  virginica\n",
       " 119           6.0          2.2           5.0          1.5  virginica\n",
       " 120           6.9          3.2           5.7          2.3  virginica\n",
       " 121           5.6          2.8           4.9          2.0  virginica\n",
       " 122           7.7          2.8           6.7          2.0  virginica\n",
       " 123           6.3          2.7           4.9          1.8  virginica\n",
       " 124           6.7          3.3           5.7          2.1  virginica\n",
       " 125           7.2          3.2           6.0          1.8  virginica\n",
       " 126           6.2          2.8           4.8          1.8  virginica\n",
       " 127           6.1          3.0           4.9          1.8  virginica\n",
       " 128           6.4          2.8           5.6          2.1  virginica\n",
       " 129           7.2          3.0           5.8          1.6  virginica\n",
       " 130           7.4          2.8           6.1          1.9  virginica\n",
       " 131           7.9          3.8           6.4          2.0  virginica\n",
       " 132           6.4          2.8           5.6          2.2  virginica\n",
       " 133           6.3          2.8           5.1          1.5  virginica\n",
       " 134           6.1          2.6           5.6          1.4  virginica\n",
       " 135           7.7          3.0           6.1          2.3  virginica\n",
       " 136           6.3          3.4           5.6          2.4  virginica\n",
       " 137           6.4          3.1           5.5          1.8  virginica\n",
       " 138           6.0          3.0           4.8          1.8  virginica\n",
       " 139           6.9          3.1           5.4          2.1  virginica\n",
       " 140           6.7          3.1           5.6          2.4  virginica\n",
       " 141           6.9          3.1           5.1          2.3  virginica\n",
       " 142           5.8          2.7           5.1          1.9  virginica\n",
       " 143           6.8          3.2           5.9          2.3  virginica\n",
       " 144           6.7          3.3           5.7          2.5  virginica\n",
       " 145           6.7          3.0           5.2          2.3  virginica\n",
       " 146           6.3          2.5           5.0          1.9  virginica\n",
       " 147           6.5          3.0           5.2          2.0  virginica\n",
       " 148           6.2          3.4           5.4          2.3  virginica\n",
       " 149           5.9          3.0           5.1          1.8  virginica)"
      ]
     },
     "execution_count": 6,
     "metadata": {},
     "output_type": "execute_result"
    }
   ],
   "source": [
    "df_setosa, df_versicolor, df_virginica"
   ]
  },
  {
   "cell_type": "code",
   "execution_count": 7,
   "id": "d5359e8c",
   "metadata": {},
   "outputs": [
    {
     "data": {
      "image/png": "[encoded data removed]",
      "text/plain": [
       "<Figure size 432x288 with 1 Axes>"
      ]
     },
     "metadata": {
      "needs_background": "light"
     },
     "output_type": "display_data"
    }
   ],
   "source": [
    "plt.plot(df_setosa['sepal_length'],np.zeros_like(df_setosa['sepal_length']),'o')\n",
    "plt.plot(df_virginica['sepal_length'], np.zeros_like(df_virginica['sepal_length']),'o')\n",
    "plt.plot(df_versicolor['sepal_length'], np.zeros_like(df_versicolor['sepal_length']),'o')\n",
    "plt.xlabel('Petal Length')\n",
    "plt.show()"
   ]
  },
  {
   "cell_type": "markdown",
   "id": "75dc66d2",
   "metadata": {},
   "source": [
    "### Bivariate Analysis"
   ]
  },
  {
   "cell_type": "code",
   "execution_count": 8,
   "id": "c4691e00",
   "metadata": {},
   "outputs": [
    {
     "name": "stderr",
     "output_type": "stream",
     "text": [
      "/Users/apple/opt/anaconda3/lib/python3.8/site-packages/seaborn/axisgrid.py:316: UserWarning: The `size` parameter has been renamed to `height`; please update your code.\n",
      "  warnings.warn(msg, UserWarning)\n"
     ]
    },
    {
     "data": {
      "image/png": "[encoded data removed]",
      "text/plain": [
       "<Figure size 444.75x360 with 1 Axes>"
      ]
     },
     "metadata": {
      "needs_background": "light"
     },
     "output_type": "display_data"
    }
   ],
   "source": [
    "sns.FacetGrid(df, hue='species', size=5).map(plt.scatter,\"petal_length\",\"sepal_width\").add_legend()\n",
    "plt.show()"
   ]
  },
  {
   "cell_type": "markdown",
   "id": "53ecc51d",
   "metadata": {},
   "source": [
    "### Multivariate Analysis"
   ]
  },
  {
   "cell_type": "code",
   "execution_count": null,
   "id": "006ae935",
   "metadata": {},
   "outputs": [],
   "source": []
  },
  {
   "cell_type": "code",
   "execution_count": null,
   "id": "6378d140",
   "metadata": {},
   "outputs": [],
   "source": []
  },
  {
   "cell_type": "code",
   "execution_count": null,
   "id": "33f18b1b",
   "metadata": {},
   "outputs": [],
   "source": []
  },
  {
   "cell_type": "code",
   "execution_count": null,
   "id": "5bcb529b",
   "metadata": {},
   "outputs": [],
   "source": []
  },
  {
   "cell_type": "code",
   "execution_count": null,
   "id": "e50b981b",
   "metadata": {},
   "outputs": [],
   "source": []
  },
  {
   "cell_type": "code",
   "execution_count": null,
   "id": "10182abf",
   "metadata": {},
   "outputs": [],
   "source": []
  }
 ],
 "metadata": {
  "kernelspec": {
   "display_name": "Python 3",
   "language": "python",
   "name": "python3"
  },
  "language_info": {
   "codemirror_mode": {
    "name": "ipython",
    "version": 3
   },
   "file_extension": ".py",
   "mimetype": "text/x-python",
   "name": "python",
   "nbconvert_exporter": "python",
   "pygments_lexer": "ipython3",
   "version": "3.8.8"
  }
 },
 "nbformat": 4,
 "nbformat_minor": 5
}
